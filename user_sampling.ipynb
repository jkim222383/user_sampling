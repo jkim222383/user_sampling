{
 "cells": [
  {
   "cell_type": "code",
   "execution_count": 1,
   "metadata": {},
   "outputs": [],
   "source": [
    "import numpy as np\n",
    "from scipy.stats import truncexpon, uniform\n",
    "import matplotlib.pyplot as plt"
   ]
  },
  {
   "cell_type": "code",
   "execution_count": 2,
   "metadata": {},
   "outputs": [
    {
     "data": {
      "image/png": "[encoded data removed]",
      "text/plain": [
       "<Figure size 432x288 with 1 Axes>"
      ]
     },
     "metadata": {
      "needs_background": "light"
     },
     "output_type": "display_data"
    }
   ],
   "source": [
    "# For this analysis, we consider that everyone plays VR less than 6 hours (extending this to higher number doesn't actually change the numbers very much)\n",
    "MAX_HOUR = 6\n",
    "vr = truncexpon(b=MAX_HOUR)\n",
    "hours_played = np.linspace(vr.ppf(0.01),\n",
    "                           vr.ppf(0.99), 100)\n",
    "plt.plot(hours_played, vr.pdf(hours_played)); plt.title(\"Hours spent playing VR (truncated at 3 hours)\");"
   ]
  },
  {
   "cell_type": "code",
   "execution_count": 3,
   "metadata": {},
   "outputs": [
    {
     "data": {
      "text/plain": [
       "0.6336913225737218"
      ]
     },
     "execution_count": 3,
     "metadata": {},
     "output_type": "execute_result"
    }
   ],
   "source": [
    "# 0-1 hours played\n",
    "light_play_ratio = vr.cdf(1)\n",
    "light_play_ratio"
   ]
  },
  {
   "cell_type": "code",
   "execution_count": 4,
   "metadata": {},
   "outputs": [
    {
     "data": {
      "text/plain": [
       "0.23312200962361307"
      ]
     },
     "execution_count": 4,
     "metadata": {},
     "output_type": "execute_result"
    }
   ],
   "source": [
    "# 1-2 hours watched\n",
    "moderate_play_ratio = vr.cdf(2) - vr.cdf(1)\n",
    "moderate_play_ratio"
   ]
  },
  {
   "cell_type": "code",
   "execution_count": 5,
   "metadata": {},
   "outputs": [
    {
     "data": {
      "text/plain": [
       "0.08576079462509834"
      ]
     },
     "execution_count": 5,
     "metadata": {},
     "output_type": "execute_result"
    }
   ],
   "source": [
    "# 2-3 hours watched\n",
    "heavy_play_ratio = vr.cdf(3) - vr.cdf(2)\n",
    "heavy_play_ratio"
   ]
  },
  {
   "cell_type": "code",
   "execution_count": 6,
   "metadata": {},
   "outputs": [
    {
     "name": "stdout",
     "output_type": "stream",
     "text": [
      "8.587831187629286 11.087831187629286 2.5\n"
     ]
    }
   ],
   "source": [
    "START_TIME = 0\n",
    "END_TIME = 24\n",
    "\n",
    "class Player():\n",
    "    def __init__(self, hours):\n",
    "        self.start = uniform(loc=START_TIME, scale=END_TIME - START_TIME).rvs()\n",
    "        self.end = self.start + hours\n",
    "        self.hours = hours\n",
    "        \n",
    "# e.g. 2.5 hours player\n",
    "player = Player(2.5)\n",
    "print(player.start, player.end, player.hours)"
   ]
  },
  {
   "cell_type": "code",
   "execution_count": 7,
   "metadata": {},
   "outputs": [],
   "source": [
    "TOTAL_NUM = 50000\n",
    "\n",
    "players = np.full((TOTAL_NUM,), Player(0))\n",
    "for n in np.arange(TOTAL_NUM):\n",
    "    players[n] = Player(vr.rvs())"
   ]
  },
  {
   "cell_type": "code",
   "execution_count": 8,
   "metadata": {},
   "outputs": [],
   "source": [
    "def active(player, select_start, select_end):\n",
    "    # checks whether player is active during selection window\n",
    "    return (player.start < select_end and        # player starts playing before selection window ends and \n",
    "            select_start < player.end)           # player stops playing after selection window starts"
   ]
  },
  {
   "cell_type": "code",
   "execution_count": 9,
   "metadata": {},
   "outputs": [
    {
     "name": "stdout",
     "output_type": "stream",
     "text": [
      "Ratio of players active from 10 to 11:  0.08182\n",
      "Of these, \n",
      "% light user:  0.451\n",
      "% moderate user:  0.283\n",
      "% heavy user:  0.149 \n",
      "\n",
      "Ratio of players active from 11 to 12:  0.08366\n",
      "Of these, \n",
      "% light user:  0.464\n",
      "% moderate user:  0.275\n",
      "% heavy user:  0.145 \n",
      "\n",
      "Ratio of players active from 12 to 13:  0.08288\n",
      "Of these, \n",
      "% light user:  0.451\n",
      "% moderate user:  0.274\n",
      "% heavy user:  0.155 \n",
      "\n",
      "Ratio of players active from 13 to 14:  0.08344\n",
      "Of these, \n",
      "% light user:  0.44\n",
      "% moderate user:  0.287\n",
      "% heavy user:  0.158 \n",
      "\n"
     ]
    }
   ],
   "source": [
    "def analyze(players, select_start, select_end):\n",
    "    active_mask = np.vectorize(lambda player : active(player, select_start, select_end))(players)\n",
    "    print(f\"Ratio of players active from {select_start} to {select_end}: \", active_mask.mean())\n",
    "    active_players = players[active_mask]\n",
    "    light = np.vectorize(lambda player : player.hours < 1)(active_players)\n",
    "    print(\"Of these, \")\n",
    "    print(\"% light user: \", round(light.mean(), 3))\n",
    "    moderate = np.vectorize(lambda player : player.hours > 1 and player.hours < 2)(active_players)\n",
    "    print(\"% moderate user: \", round(moderate.mean(), 3))\n",
    "    heavy = np.vectorize(lambda player : player.hours > 2 and player.hours < 3)(active_players)\n",
    "    print(\"% heavy user: \", round(heavy.mean(), 3), \"\\n\")\n",
    "\n",
    "\n",
    "analyze(players, 10, 11)\n",
    "analyze(players, 11, 12)\n",
    "analyze(players, 12, 13)\n",
    "analyze(players, 13, 14)"
   ]
  },
  {
   "cell_type": "code",
   "execution_count": 10,
   "metadata": {},
   "outputs": [
    {
     "name": "stdout",
     "output_type": "stream",
     "text": [
      "Ratio of players active from 10 to 12:  0.12452\n",
      "Of these, \n",
      "% light user:  0.517\n",
      "% moderate user:  0.262\n",
      "% heavy user:  0.126 \n",
      "\n",
      "Ratio of players active from 11 to 13:  0.12542\n",
      "Of these, \n",
      "% light user:  0.517\n",
      "% moderate user:  0.259\n",
      "% heavy user:  0.13 \n",
      "\n",
      "Ratio of players active from 12 to 14:  0.1248\n",
      "Of these, \n",
      "% light user:  0.509\n",
      "% moderate user:  0.266\n",
      "% heavy user:  0.133 \n",
      "\n"
     ]
    }
   ],
   "source": [
    "analyze(players, 10, 12)\n",
    "analyze(players, 11, 13)\n",
    "analyze(players, 12, 14)"
   ]
  },
  {
   "cell_type": "code",
   "execution_count": 11,
   "metadata": {},
   "outputs": [
    {
     "name": "stdout",
     "output_type": "stream",
     "text": [
      "Ratio of players active from 10 to 13:  0.16628\n",
      "Of these, \n",
      "% light user:  0.544\n",
      "% moderate user:  0.254\n",
      "% heavy user:  0.12 \n",
      "\n",
      "Ratio of players active from 11 to 14:  0.16734\n",
      "Of these, \n",
      "% light user:  0.544\n",
      "% moderate user:  0.257\n",
      "% heavy user:  0.12 \n",
      "\n"
     ]
    }
   ],
   "source": [
    "analyze(players, 10, 13)\n",
    "analyze(players, 11, 14)"
   ]
  },
  {
   "cell_type": "code",
   "execution_count": null,
   "metadata": {},
   "outputs": [],
   "source": []
  }
 ],
 "metadata": {
  "kernelspec": {
   "display_name": "Python [conda env:dsci553env]",
   "language": "python",
   "name": "conda-env-dsci553env-py"
  },
  "language_info": {
   "codemirror_mode": {
    "name": "ipython",
    "version": 3
   },
   "file_extension": ".py",
   "mimetype": "text/x-python",
   "name": "python",
   "nbconvert_exporter": "python",
   "pygments_lexer": "ipython3",
   "version": "3.7.9"
  }
 },
 "nbformat": 4,
 "nbformat_minor": 4
}
